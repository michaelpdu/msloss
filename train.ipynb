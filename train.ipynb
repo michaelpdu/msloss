{
 "cells": [
  {
   "cell_type": "code",
   "execution_count": 1,
   "id": "f6431864-c834-405c-b5f2-ded0c271dbaa",
   "metadata": {},
   "outputs": [],
   "source": [
    "import argparse\n",
    "import torch\n",
    "\n",
    "from ret_benchmark.config import cfg\n",
    "from ret_benchmark.data import build_data\n",
    "from ret_benchmark.engine.trainer import do_train\n",
    "from ret_benchmark.losses import build_loss\n",
    "from ret_benchmark.modeling import build_model\n",
    "from ret_benchmark.solver import build_lr_scheduler, build_optimizer\n",
    "from ret_benchmark.utils.logger import setup_logger\n",
    "from ret_benchmark.utils.checkpoint import Checkpointer"
   ]
  },
  {
   "cell_type": "code",
   "execution_count": 2,
   "id": "fc846fbe-46e0-42ec-85f8-9232ea4c99ee",
   "metadata": {},
   "outputs": [],
   "source": [
    "def train(cfg):\n",
    "    logger = setup_logger(name='Train', level=cfg.LOGGER.LEVEL)\n",
    "    logger.info(cfg)\n",
    "    model = build_model(cfg)\n",
    "    cfg.MODEL.DEVICE = 'cuda' if torch.cuda.is_available() else 'cpu'\n",
    "    device = torch.device(cfg.MODEL.DEVICE)\n",
    "    model.to(device)\n",
    "\n",
    "    criterion = build_loss(cfg)\n",
    "\n",
    "    optimizer = build_optimizer(cfg, model)\n",
    "    scheduler = build_lr_scheduler(cfg, optimizer)\n",
    "\n",
    "    train_loader = build_data(cfg, is_train=True)\n",
    "    val_loader = build_data(cfg, is_train=False)\n",
    "\n",
    "    logger.info(train_loader.dataset)\n",
    "    logger.info(val_loader.dataset)\n",
    "\n",
    "    arguments = dict()\n",
    "    arguments[\"iteration\"] = 0\n",
    "\n",
    "    checkpoint_period = cfg.SOLVER.CHECKPOINT_PERIOD\n",
    "    checkpointer = Checkpointer(model, optimizer, scheduler, cfg.SAVE_DIR)\n",
    "\n",
    "    do_train(\n",
    "        cfg,\n",
    "        model,\n",
    "        train_loader,\n",
    "        val_loader,\n",
    "        optimizer,\n",
    "        scheduler,\n",
    "        criterion,\n",
    "        checkpointer,\n",
    "        device,\n",
    "        checkpoint_period,\n",
    "        arguments,\n",
    "        logger\n",
    "    )"
   ]
  },
  {
   "cell_type": "code",
   "execution_count": null,
   "id": "018ef1f5-a132-43b8-bb3a-fc3b5843e23b",
   "metadata": {},
   "outputs": [],
   "source": [
    "# python tools\\main.py --cfg configs\\example_resnet50.yaml\n",
    "cfg.merge_from_file('configs/example_resnet50.yaml')\n",
    "train(cfg)"
   ]
  },
  {
   "cell_type": "code",
   "execution_count": null,
   "id": "c755cdae-0ad1-4c79-aec7-63370462c318",
   "metadata": {},
   "outputs": [],
   "source": []
  }
 ],
 "metadata": {
  "kernelspec": {
   "display_name": "Python 3 (ipykernel)",
   "language": "python",
   "name": "python3"
  },
  "language_info": {
   "codemirror_mode": {
    "name": "ipython",
    "version": 3
   },
   "file_extension": ".py",
   "mimetype": "text/x-python",
   "name": "python",
   "nbconvert_exporter": "python",
   "pygments_lexer": "ipython3",
   "version": "3.8.12"
  }
 },
 "nbformat": 4,
 "nbformat_minor": 5
}
